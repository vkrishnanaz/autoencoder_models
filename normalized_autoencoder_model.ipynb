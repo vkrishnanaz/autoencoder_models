{
 "cells": [
  {
   "cell_type": "code",
   "execution_count": 1,
   "id": "ac3a7cfd-7109-47e3-a321-c54ba7cbc000",
   "metadata": {},
   "outputs": [],
   "source": [
    "from tqdm import tqdm\n",
    "import h5py\n",
    "import numpy as np\n",
    "from sklearn.model_selection import train_test_split\n",
    "import h5py\n",
    "import numpy as np\n",
    "from scipy.ndimage import gaussian_filter\n",
    "from sklearn.model_selection import train_test_split\n",
    "from sklearn.metrics import roc_curve, auc\n",
    "import matplotlib.pyplot as plt\n",
    "\n",
    "import torch\n",
    "import torch.nn as nn\n",
    "import torch.nn.functional as F\n",
    "import torch.optim as optim\n",
    "from torch.nn.utils import spectral_norm\n",
    "from torch.utils.data import Dataset, DataLoader\n",
    "from tqdm import tqdm\n",
    "\n",
    "from scipy import ndimage as nd\n",
    "\n",
    "from sklearn.decomposition import PCA"
   ]
  },
  {
   "cell_type": "code",
   "execution_count": 2,
   "id": "128982e2-f03b-4d45-bdfa-d93fa61ada89",
   "metadata": {},
   "outputs": [
    {
     "data": {
      "text/plain": [
       "'/home/jovyan/jet_data'"
      ]
     },
     "execution_count": 2,
     "metadata": {},
     "output_type": "execute_result"
    }
   ],
   "source": [
    "import os\n",
    "os.chdir('../jet_data') #Move to directory with data which is 48x48\n",
    "os.getcwd()"
   ]
  },
  {
   "cell_type": "code",
   "execution_count": 4,
   "id": "6d79c242-2328-470c-ab75-c09f11983427",
   "metadata": {},
   "outputs": [],
   "source": [
    "with h5py.File('data/q_dataset.h5', 'r') as file:\n",
    "    full_data = np.array(file['Data'])\n",
    "\n",
    "x_train, x_test = train_test_split(full_data, test_size=0.25, shuffle=True)\n",
    "\n",
    "\n",
    "x_train = torch.tensor(x_train).unsqueeze(1) \n",
    "x_test = torch.tensor(x_test).unsqueeze(1) \n"
   ]
  },
  {
   "cell_type": "code",
   "execution_count": 5,
   "id": "ecab84b7-d43b-4cf7-a323-c35d58ba9c6a",
   "metadata": {},
   "outputs": [],
   "source": [
    "var = np.var(np.mean(full_data, axis=0)[:,:,0])"
   ]
  },
  {
   "cell_type": "code",
   "execution_count": 86,
   "id": "b4e21f43-7873-4dac-991c-da0b18ffbac9",
   "metadata": {},
   "outputs": [],
   "source": [
    "from torch.utils.data import DataLoader, TensorDataset\n",
    "\n",
    "\n",
    "class JetImageDataset(Dataset):\n",
    "    def __init__(self, images):\n",
    "        self.images = images.astype(np.float32)\n",
    "    def __len__(self):\n",
    "        return len(self.images)\n",
    "    def __getitem__(self, idx):\n",
    "        img = self.images[idx]\n",
    "        img = torch.from_numpy(img.squeeze(-1))\n",
    "        return img\n",
    "\n",
    "\n",
    "train_dataset = JetImageDataset(x_train.numpy())\n",
    "test_dataset  = JetImageDataset(x_test.numpy())\n",
    "\n",
    "train_loader = DataLoader(train_dataset, batch_size=128, shuffle=True)\n",
    "test_loader  = DataLoader(test_dataset, batch_size=128, shuffle=False)"
   ]
  },
  {
   "cell_type": "markdown",
   "id": "789347fc-c01c-4489-a7ea-616c26b7a98b",
   "metadata": {},
   "source": [
    "### Model Architecture"
   ]
  },
  {
   "cell_type": "code",
   "execution_count": 87,
   "id": "46a40c87-2dc2-4da1-971b-c61ed074111d",
   "metadata": {},
   "outputs": [],
   "source": [
    "class NormalizedAutoencoder(nn.Module):\n",
    "    def __init__(self, latent_dim=3):\n",
    "        super(NormalizedAutoencoder, self).__init__()\n",
    "\n",
    "        self.enc_conv1 = spectral_norm(nn.Conv2d(1, 8, kernel_size=3, stride=1, padding=1, bias=True))\n",
    "        self.enc_prelu1 = nn.PReLU()\n",
    "        self.enc_conv2 = spectral_norm(nn.Conv2d(8, 8, kernel_size=3, stride=1, padding=1, bias=True))\n",
    "        self.enc_prelu2 = nn.PReLU()\n",
    "        self.enc_pool = nn.MaxPool2d(kernel_size=2, stride=2)  \n",
    "\n",
    "        self.enc_conv3 = spectral_norm(nn.Conv2d(8, 8, kernel_size=3, stride=1, padding=1, bias=True))\n",
    "        self.enc_prelu3 = nn.PReLU()\n",
    "        self.enc_conv4 = spectral_norm(nn.Conv2d(8, 8, kernel_size=3, stride=1, padding=1, bias=True))\n",
    "        self.enc_prelu4 = nn.PReLU()\n",
    "        self.enc_conv5 = spectral_norm(nn.Conv2d(8, 1, kernel_size=3, stride=1, padding=1, bias=True))\n",
    "        self.enc_prelu5 = nn.PReLU()\n",
    "        self.enc_fc1 = spectral_norm(nn.Linear(576, 100, bias=True))\n",
    "        self.enc_prelu_fc1 = nn.PReLU()\n",
    "        self.enc_fc2 = spectral_norm(nn.Linear(100, latent_dim, bias=True))\n",
    "\n",
    "        self.dec_fc1 = spectral_norm(nn.Linear(latent_dim, 100, bias=True))\n",
    "        self.dec_prelu_fc1 = nn.PReLU()\n",
    "        self.dec_fc2 = spectral_norm(nn.Linear(100, 576, bias=True))\n",
    "        self.dec_prelu_fc2 = nn.PReLU()\n",
    "        self.dec_deconv1 = spectral_norm(nn.ConvTranspose2d(1, 8, kernel_size=3, stride=1, padding=1, bias=True))\n",
    "        self.dec_prelu1 = nn.PReLU()\n",
    "        self.dec_deconv2 = spectral_norm(nn.ConvTranspose2d(8, 8, kernel_size=3, stride=1, padding=1, bias=True))\n",
    "        self.dec_prelu2 = nn.PReLU()\n",
    "        self.dec_upsample = nn.Upsample(scale_factor=2, mode='bilinear', align_corners=False)  \n",
    "        self.dec_deconv3 = spectral_norm(nn.ConvTranspose2d(8, 8, kernel_size=3, stride=1, padding=1, bias=True))\n",
    "        self.dec_prelu3 = nn.PReLU()\n",
    "        self.dec_deconv4 = spectral_norm(nn.ConvTranspose2d(8, 1, kernel_size=3, stride=1, padding=1, bias=True))\n",
    "        self.dec_sigmoid = nn.Sigmoid()\n",
    "        \n",
    "    def encode(self, x):\n",
    "        x = self.enc_prelu1(self.enc_conv1(x))\n",
    "        x = self.enc_prelu2(self.enc_conv2(x))\n",
    "        x = self.enc_pool(x)\n",
    "        x = self.enc_prelu3(self.enc_conv3(x))\n",
    "        x = self.enc_prelu4(self.enc_conv4(x))\n",
    "        x = self.enc_prelu5(self.enc_conv5(x))\n",
    "        x = x.view(x.size(0), -1)\n",
    "        x = self.enc_prelu_fc1(self.enc_fc1(x))\n",
    "        z = self.enc_fc2(x)\n",
    "        z = F.normalize(z, p=2, dim=1)  \n",
    "        return z\n",
    "    \n",
    "    def decode(self, z):\n",
    "        x = self.dec_prelu_fc1(self.dec_fc1(z))\n",
    "        x = self.dec_prelu_fc2(self.dec_fc2(x))\n",
    "        x = x.view(x.size(0), 1, 24, 24)\n",
    "        x = self.dec_prelu1(self.dec_deconv1(x))\n",
    "        x = self.dec_prelu2(self.dec_deconv2(x))\n",
    "        x = self.dec_upsample(x)\n",
    "        x = self.dec_prelu3(self.dec_deconv3(x))\n",
    "        x = self.dec_sigmoid(self.dec_deconv4(x))\n",
    "        return x\n",
    "    \n",
    "    def forward(self, x):\n",
    "        z = self.encode(x)\n",
    "        recon = self.decode(z)\n",
    "        return recon, z"
   ]
  },
  {
   "cell_type": "markdown",
   "id": "7863848a-5181-49d0-b3cb-1b3b24e68bcd",
   "metadata": {},
   "source": [
    "### AE Pretraining Phase"
   ]
  },
  {
   "cell_type": "code",
   "execution_count": 88,
   "id": "64e4fc79-8efa-48ae-8678-3171009ecc35",
   "metadata": {},
   "outputs": [],
   "source": [
    "device = torch.device('cuda')\n",
    "model = NormalizedAutoencoder(latent_dim=3).to(device)\n",
    "mse_loss = nn.MSELoss(reduction='mean')"
   ]
  },
  {
   "cell_type": "code",
   "execution_count": null,
   "id": "a2b75a01-bc0e-4ff4-b0ad-d4c4205e2362",
   "metadata": {},
   "outputs": [
    {
     "name": "stderr",
     "output_type": "stream",
     "text": [
      "AE Epoch 1/30: 100%|██████████| 820/820 [00:11<00:00, 68.44it/s]\n"
     ]
    },
    {
     "name": "stdout",
     "output_type": "stream",
     "text": [
      "Epoch 1/30 AE Loss: 11.852687\n"
     ]
    },
    {
     "name": "stderr",
     "output_type": "stream",
     "text": [
      "AE Epoch 2/30: 100%|██████████| 820/820 [00:11<00:00, 68.73it/s]\n"
     ]
    },
    {
     "name": "stdout",
     "output_type": "stream",
     "text": [
      "Epoch 2/30 AE Loss: 1.149230\n"
     ]
    },
    {
     "name": "stderr",
     "output_type": "stream",
     "text": [
      "AE Epoch 3/30: 100%|██████████| 820/820 [00:11<00:00, 68.63it/s]\n"
     ]
    },
    {
     "name": "stdout",
     "output_type": "stream",
     "text": [
      "Epoch 3/30 AE Loss: 0.966397\n"
     ]
    },
    {
     "name": "stderr",
     "output_type": "stream",
     "text": [
      "AE Epoch 4/30: 100%|██████████| 820/820 [00:11<00:00, 68.74it/s]\n"
     ]
    },
    {
     "name": "stdout",
     "output_type": "stream",
     "text": [
      "Epoch 4/30 AE Loss: 0.646672\n"
     ]
    },
    {
     "name": "stderr",
     "output_type": "stream",
     "text": [
      "AE Epoch 5/30: 100%|██████████| 820/820 [00:11<00:00, 68.73it/s]\n"
     ]
    },
    {
     "name": "stdout",
     "output_type": "stream",
     "text": [
      "Epoch 5/30 AE Loss: 0.483126\n"
     ]
    },
    {
     "name": "stderr",
     "output_type": "stream",
     "text": [
      "AE Epoch 6/30: 100%|██████████| 820/820 [00:11<00:00, 68.73it/s]\n"
     ]
    },
    {
     "name": "stdout",
     "output_type": "stream",
     "text": [
      "Epoch 6/30 AE Loss: 0.438774\n"
     ]
    },
    {
     "name": "stderr",
     "output_type": "stream",
     "text": [
      "AE Epoch 7/30: 100%|██████████| 820/820 [00:11<00:00, 68.77it/s]\n"
     ]
    },
    {
     "name": "stdout",
     "output_type": "stream",
     "text": [
      "Epoch 7/30 AE Loss: 0.416311\n"
     ]
    },
    {
     "name": "stderr",
     "output_type": "stream",
     "text": [
      "AE Epoch 8/30: 100%|██████████| 820/820 [00:11<00:00, 68.70it/s]\n"
     ]
    },
    {
     "name": "stdout",
     "output_type": "stream",
     "text": [
      "Epoch 8/30 AE Loss: 0.403938\n"
     ]
    },
    {
     "name": "stderr",
     "output_type": "stream",
     "text": [
      "AE Epoch 9/30: 100%|██████████| 820/820 [00:11<00:00, 68.90it/s]\n"
     ]
    },
    {
     "name": "stdout",
     "output_type": "stream",
     "text": [
      "Epoch 9/30 AE Loss: 0.396553\n"
     ]
    },
    {
     "name": "stderr",
     "output_type": "stream",
     "text": [
      "AE Epoch 10/30: 100%|██████████| 820/820 [00:11<00:00, 68.67it/s]\n"
     ]
    },
    {
     "name": "stdout",
     "output_type": "stream",
     "text": [
      "Epoch 10/30 AE Loss: 0.391825\n"
     ]
    },
    {
     "name": "stderr",
     "output_type": "stream",
     "text": [
      "AE Epoch 11/30: 100%|██████████| 820/820 [00:11<00:00, 68.73it/s]\n"
     ]
    },
    {
     "name": "stdout",
     "output_type": "stream",
     "text": [
      "Epoch 11/30 AE Loss: 0.389789\n"
     ]
    },
    {
     "name": "stderr",
     "output_type": "stream",
     "text": [
      "AE Epoch 12/30: 100%|██████████| 820/820 [00:11<00:00, 68.64it/s]\n"
     ]
    },
    {
     "name": "stdout",
     "output_type": "stream",
     "text": [
      "Epoch 12/30 AE Loss: 0.388804\n"
     ]
    },
    {
     "name": "stderr",
     "output_type": "stream",
     "text": [
      "AE Epoch 13/30: 100%|██████████| 820/820 [00:11<00:00, 68.66it/s]\n"
     ]
    },
    {
     "name": "stdout",
     "output_type": "stream",
     "text": [
      "Epoch 13/30 AE Loss: 0.386114\n"
     ]
    },
    {
     "name": "stderr",
     "output_type": "stream",
     "text": [
      "AE Epoch 14/30: 100%|██████████| 820/820 [00:11<00:00, 68.53it/s]\n"
     ]
    },
    {
     "name": "stdout",
     "output_type": "stream",
     "text": [
      "Epoch 14/30 AE Loss: 0.384033\n"
     ]
    },
    {
     "name": "stderr",
     "output_type": "stream",
     "text": [
      "AE Epoch 15/30: 100%|██████████| 820/820 [00:11<00:00, 68.68it/s]\n"
     ]
    },
    {
     "name": "stdout",
     "output_type": "stream",
     "text": [
      "Epoch 15/30 AE Loss: 0.382361\n"
     ]
    },
    {
     "name": "stderr",
     "output_type": "stream",
     "text": [
      "AE Epoch 16/30: 100%|██████████| 820/820 [00:11<00:00, 68.54it/s]\n"
     ]
    },
    {
     "name": "stdout",
     "output_type": "stream",
     "text": [
      "Epoch 16/30 AE Loss: 0.336273\n"
     ]
    },
    {
     "name": "stderr",
     "output_type": "stream",
     "text": [
      "AE Epoch 17/30: 100%|██████████| 820/820 [00:11<00:00, 68.76it/s]\n"
     ]
    },
    {
     "name": "stdout",
     "output_type": "stream",
     "text": [
      "Epoch 17/30 AE Loss: 0.283981\n"
     ]
    },
    {
     "name": "stderr",
     "output_type": "stream",
     "text": [
      "AE Epoch 18/30: 100%|██████████| 820/820 [00:11<00:00, 68.61it/s]\n"
     ]
    },
    {
     "name": "stdout",
     "output_type": "stream",
     "text": [
      "Epoch 18/30 AE Loss: 0.257982\n"
     ]
    },
    {
     "name": "stderr",
     "output_type": "stream",
     "text": [
      "AE Epoch 19/30: 100%|██████████| 820/820 [00:11<00:00, 68.82it/s]\n"
     ]
    },
    {
     "name": "stdout",
     "output_type": "stream",
     "text": [
      "Epoch 19/30 AE Loss: 0.244692\n"
     ]
    },
    {
     "name": "stderr",
     "output_type": "stream",
     "text": [
      "AE Epoch 20/30: 100%|██████████| 820/820 [00:11<00:00, 68.70it/s]\n"
     ]
    },
    {
     "name": "stdout",
     "output_type": "stream",
     "text": [
      "Epoch 20/30 AE Loss: 0.232642\n"
     ]
    },
    {
     "name": "stderr",
     "output_type": "stream",
     "text": [
      "AE Epoch 21/30: 100%|██████████| 820/820 [00:11<00:00, 68.67it/s]\n"
     ]
    },
    {
     "name": "stdout",
     "output_type": "stream",
     "text": [
      "Epoch 21/30 AE Loss: 0.225771\n"
     ]
    },
    {
     "name": "stderr",
     "output_type": "stream",
     "text": [
      "AE Epoch 22/30: 100%|██████████| 820/820 [00:11<00:00, 68.70it/s]\n"
     ]
    },
    {
     "name": "stdout",
     "output_type": "stream",
     "text": [
      "Epoch 22/30 AE Loss: 0.221798\n"
     ]
    },
    {
     "name": "stderr",
     "output_type": "stream",
     "text": [
      "AE Epoch 23/30: 100%|██████████| 820/820 [00:11<00:00, 68.75it/s]\n"
     ]
    },
    {
     "name": "stdout",
     "output_type": "stream",
     "text": [
      "Epoch 23/30 AE Loss: 0.219458\n"
     ]
    },
    {
     "name": "stderr",
     "output_type": "stream",
     "text": [
      "AE Epoch 24/30: 100%|██████████| 820/820 [00:11<00:00, 68.63it/s]\n"
     ]
    },
    {
     "name": "stdout",
     "output_type": "stream",
     "text": [
      "Epoch 24/30 AE Loss: 0.213827\n"
     ]
    },
    {
     "name": "stderr",
     "output_type": "stream",
     "text": [
      "AE Epoch 25/30: 100%|██████████| 820/820 [00:11<00:00, 68.69it/s]\n"
     ]
    },
    {
     "name": "stdout",
     "output_type": "stream",
     "text": [
      "Epoch 25/30 AE Loss: 0.214582\n"
     ]
    },
    {
     "name": "stderr",
     "output_type": "stream",
     "text": [
      "AE Epoch 26/30: 100%|██████████| 820/820 [00:11<00:00, 68.74it/s]\n"
     ]
    },
    {
     "name": "stdout",
     "output_type": "stream",
     "text": [
      "Epoch 26/30 AE Loss: 0.212204\n"
     ]
    },
    {
     "name": "stderr",
     "output_type": "stream",
     "text": [
      "AE Epoch 27/30: 100%|██████████| 820/820 [00:11<00:00, 68.48it/s]\n"
     ]
    },
    {
     "name": "stdout",
     "output_type": "stream",
     "text": [
      "Epoch 27/30 AE Loss: 0.208999\n"
     ]
    },
    {
     "name": "stderr",
     "output_type": "stream",
     "text": [
      "AE Epoch 28/30: 100%|██████████| 820/820 [00:11<00:00, 68.85it/s]\n"
     ]
    },
    {
     "name": "stdout",
     "output_type": "stream",
     "text": [
      "Epoch 28/30 AE Loss: 0.202697\n"
     ]
    },
    {
     "name": "stderr",
     "output_type": "stream",
     "text": [
      "AE Epoch 29/30:  90%|█████████ | 740/820 [00:10<00:01, 68.92it/s]"
     ]
    }
   ],
   "source": [
    "optimizer = optim.Adam(model.parameters(), lr=1e-3)\n",
    "num_pretrain_epochs = 30\n",
    "\n",
    "for epoch in range(num_pretrain_epochs):\n",
    "    model.train()\n",
    "    epoch_loss = 0.0\n",
    "    num_samples = 0\n",
    "\n",
    "    for imgs in tqdm(train_loader, desc=f\"AE Epoch {epoch+1}/{num_pretrain_epochs}\"):\n",
    "        imgs = imgs.to(device)\n",
    "        variances = torch.var(imgs, dim=(2, 3), keepdim=True) + 1e-6 \n",
    "        \n",
    "        optimizer.zero_grad()\n",
    "        recons, _ = model(imgs)\n",
    "        \n",
    "        loss_recon = F.mse_loss(recons, imgs) / variances  \n",
    "        loss_recon = loss_recon.view(loss_recon.size(0), -1).mean(dim=1) \n",
    "        loss_recon = loss_recon.mean()  \n",
    "        \n",
    "        reg_loss = sum(torch.sum(param**2) for param in model.parameters())\n",
    "        loss = loss_recon + 1e-5 * reg_loss  \n",
    "\n",
    "        loss.backward()\n",
    "        optimizer.step()\n",
    "\n",
    "        epoch_loss += loss.item() * imgs.size(0)\n",
    "        num_samples += imgs.size(0)\n",
    "    \n",
    "    avg_loss = epoch_loss / num_samples\n",
    "    print(f\"Epoch {epoch+1}/{num_pretrain_epochs} AE Loss: {avg_loss:.6f}\")\n"
   ]
  },
  {
   "cell_type": "code",
   "execution_count": 62,
   "id": "3c7e3e7c-2980-4daf-b29b-eb4240e29deb",
   "metadata": {},
   "outputs": [],
   "source": [
    "torch.save(model.state_dict(), \"model_postAEtrain.pth\")"
   ]
  },
  {
   "cell_type": "markdown",
   "id": "249dba99-6eae-4678-a6f5-dcebcf53018b",
   "metadata": {},
   "source": [
    "### NAE Training Phase"
   ]
  },
  {
   "cell_type": "code",
   "execution_count": 60,
   "id": "e84df822-e1e9-4285-8eb1-87397645f609",
   "metadata": {},
   "outputs": [
    {
     "name": "stderr",
     "output_type": "stream",
     "text": [
      "NAE Training: 100%|██████████| 500/500 [02:41<00:00,  3.09it/s, loss=0.232654, E_pos=0.241808, E_neg=0.012918]\n"
     ]
    }
   ],
   "source": [
    "model.train()\n",
    "\n",
    "latent_steps = 30\n",
    "latent_step_size = 50 #0.1#50#0.1#5#0#0.1\n",
    "latent_noise_std = 10**-4 #0.1 #10**-4#0.1#0.0001#0.1\n",
    "num_nae_iterations = 500\n",
    "latent_buffer = []   \n",
    "buffer_size = 10000\n",
    "\n",
    "optimizer = optim.Adam(model.parameters(), lr=1e-5)\n",
    "\n",
    "pbar = tqdm(range(num_nae_iterations), desc=\"NAE Training\")\n",
    "for it in pbar:\n",
    "    imgs = next(iter(train_loader)).to(device)\n",
    "    \n",
    "    variances = torch.var(imgs, dim=(2,3), keepdim=True) + 1e-6  \n",
    "    \n",
    "    optimizer.zero_grad()\n",
    "    recons, z = model(imgs)\n",
    "    E_pos = mse_loss(recons, imgs) / variances\n",
    "    E_pos = E_pos.view(E_pos.size(0), -1).mean(dim=1)\n",
    "    E_pos = E_pos.mean()\n",
    "    \n",
    "    batch_size = imgs.size(0)\n",
    "    if latent_buffer and np.random.rand() < 0.95:\n",
    "        idx = np.random.randint(len(latent_buffer), size=batch_size)\n",
    "        z_neg = torch.tensor(np.array(latent_buffer)[idx], dtype=torch.float32, device=device)\n",
    "    else:\n",
    "        z_rand = torch.randn((batch_size, 3), device=device)\n",
    "        z_neg = F.normalize(z_rand, p=2, dim=1)\n",
    "    z_neg.requires_grad_(True)\n",
    "    \n",
    "    for _ in range(latent_steps):\n",
    "        x_neg = model.decode(z_neg)\n",
    "        x_neg_enc = model.encode(x_neg)\n",
    "        x_neg_recon = model.decode(x_neg_enc)\n",
    "        energy = mse_loss(x_neg_recon, x_neg) / variances\n",
    "        energy = energy.view(energy.size(0), -1).mean(dim=1)\n",
    "        grad_z = torch.autograd.grad(energy.mean(), z_neg, retain_graph=False, create_graph=False)[0]\n",
    "        z_neg = z_neg - 0.5 * latent_step_size * grad_z + latent_noise_std * torch.randn_like(z_neg)\n",
    "        z_neg = F.normalize(z_neg, p=2, dim=1)\n",
    "        z_neg.requires_grad_(True)\n",
    "    x_neg_final = model.decode(z_neg.detach())\n",
    "    x_neg_recon_final, _ = model(x_neg_final)\n",
    "    E_neg = mse_loss(x_neg_recon_final, x_neg_final) / variances\n",
    "    E_neg = E_neg.view(E_neg.size(0), -1).mean(dim=1)\n",
    "    E_neg = E_neg.mean()\n",
    "    \n",
    "    reg_loss = sum(torch.sum(param**2) for param in model.parameters())\n",
    "    loss = E_pos - E_neg + 1e-5 * reg_loss + 1e-3 * (E_pos**2)\n",
    "    loss.backward()\n",
    "    optimizer.step()\n",
    "    \n",
    "    pbar.set_postfix({\n",
    "        \"loss\": f\"{loss.item():.6f}\",\n",
    "        \"E_pos\": f\"{E_pos.item():.6f}\",\n",
    "        \"E_neg\": f\"{E_neg.item():.6f}\"\n",
    "    })\n",
    "    \n",
    "\n",
    "    if len(latent_buffer) < buffer_size:\n",
    "        latent_buffer.extend(z_neg.detach().cpu().numpy())\n",
    "    else:\n",
    "        replace_idx = np.random.randint(buffer_size, size=batch_size)\n",
    "        arr = np.array(latent_buffer)\n",
    "        arr[replace_idx] = z_neg.detach().cpu().numpy()\n",
    "        latent_buffer = list(arr)\n",
    "torch.save(model.state_dict(), \"model_postNAEtrain.pth\")"
   ]
  },
  {
   "cell_type": "markdown",
   "id": "458a192f-0887-4d1e-b815-9d39a86d4e21",
   "metadata": {},
   "source": [
    "### Test Model "
   ]
  },
  {
   "cell_type": "code",
   "execution_count": 16,
   "id": "5ad9294a-5194-40a7-8ed0-aab6b755bb08",
   "metadata": {},
   "outputs": [],
   "source": [
    "signal_labels = [\"g\", \"t\", \"w\", \"z\"]\n",
    "signals_file = [\"data/g_dataset.h5\", \"data/t_dataset.h5\", \"data/w_dataset.h5\", \"data/z_dataset.h5\"]\n",
    "signal_data = []\n",
    "\n",
    "\n",
    "for i, label in enumerate(signal_labels):\n",
    "    with h5py.File(signals_file[i], 'r') as file:\n",
    "        test_data = np.array(file['Data'])\n",
    "    signal_data.append(torch.tensor(test_data).unsqueeze(1))"
   ]
  },
  {
   "cell_type": "code",
   "execution_count": 75,
   "id": "215bae83-f92f-4053-9f30-8e0c3a5e3a61",
   "metadata": {},
   "outputs": [
    {
     "data": {
      "image/png": "[encoded data removed]",
      "text/plain": [
       "<Figure size 1000x800 with 1 Axes>"
      ]
     },
     "metadata": {},
     "output_type": "display_data"
    }
   ],
   "source": [
    "\n",
    "model.eval()\n",
    "\n",
    "def compute_anomaly_loss(loader, model, device):\n",
    "    loss = []\n",
    "    with torch.no_grad():\n",
    "        for imgs in loader:\n",
    "            imgs = imgs.to(device)\n",
    "            variances = np.var(imgs.cpu().numpy(), axis=(2,3), keepdims=True) + 1e-6  \n",
    "            variances = torch.tensor(variances, dtype=torch.float32, device=imgs.device)          \n",
    "            recons, _ = model(imgs)\n",
    "            err = F.mse_loss(recons, imgs)  \n",
    "            err = err / variances  \n",
    "            err = err.view(err.size(0), -1).mean(dim=1)\n",
    "            loss.extend(err.cpu().numpy())\n",
    "            \n",
    "    return np.array(loss)\n",
    "\n",
    "\n",
    "bkg_loss = compute_anomaly_loss(test_loader, model, device)\n",
    "\n",
    "\n",
    "signal_loss = []\n",
    "for data in signal_data:\n",
    "    dataset = JetImageDataset(data.numpy())\n",
    "    loader = DataLoader(dataset, batch_size=128, shuffle=False)\n",
    "    loss = compute_anomaly_loss(loader, model, device)\n",
    "    signal_loss.append(loss)\n",
    "\n",
    "\n",
    "\n",
    "plt.figure(figsize=(10, 8))\n",
    "\n",
    "for i, label in enumerate(signal_labels):\n",
    "    pos = signal_loss[i]\n",
    "    neg = bkg_loss\n",
    "    trueVal = np.concatenate((np.ones(len(pos)), np.zeros(len(neg))))\n",
    "    predVal_loss = np.concatenate((pos, neg))\n",
    "    fpr, tpr, thresholds = roc_curve(trueVal, predVal_loss)\n",
    "    auc_val = auc(fpr, tpr)\n",
    "    plt.plot(fpr, tpr, label=f\"{label} (AUC={auc_val:.3f})\")\n",
    "    \n",
    "plt.plot(np.linspace(0, 1), np.linspace(0, 1), '--')\n",
    "plt.xscale(\"log\")\n",
    "plt.yscale(\"log\")\n",
    "plt.xlabel(\"False Positive Rate\")\n",
    "plt.ylabel(\"True Positive Rate\")\n",
    "plt.legend(loc='center right')\n",
    "plt.grid(True)\n",
    "plt.tight_layout()\n",
    "plt.show()"
   ]
  },
  {
   "cell_type": "code",
   "execution_count": 76,
   "id": "89e2340d-e500-4f2f-a054-2054a9182639",
   "metadata": {},
   "outputs": [
    {
     "data": {
      "image/png": "[encoded data removed]",
      "text/plain": [
       "<Figure size 640x480 with 1 Axes>"
      ]
     },
     "metadata": {},
     "output_type": "display_data"
    }
   ],
   "source": [
    "plt.hist(bkg_loss, bins=100, label='q', density = True, histtype='step', fill=False, linewidth=1.5, )\n",
    "for i, label in enumerate(signal_labels):\n",
    "    plt.hist(signal_loss[i], bins=100, label=label, density = True, histtype='step', fill=False, linewidth=1.5, )\n",
    "plt.yscale('log')\n",
    "plt.xlabel(\"Autoencoder Loss\")\n",
    "plt.ylabel(\"Probability (a.u.)\")\n",
    "plt.title('MSE loss')\n",
    "plt.legend(loc='best')\n",
    "plt.show()"
   ]
  },
  {
   "cell_type": "code",
   "execution_count": null,
   "id": "57d33132-ee09-4746-a758-473156f6318c",
   "metadata": {},
   "outputs": [],
   "source": []
  }
 ],
 "metadata": {
  "kernelspec": {
   "display_name": "Python 3 (ipykernel)",
   "language": "python",
   "name": "python3"
  },
  "language_info": {
   "codemirror_mode": {
    "name": "ipython",
    "version": 3
   },
   "file_extension": ".py",
   "mimetype": "text/x-python",
   "name": "python",
   "nbconvert_exporter": "python",
   "pygments_lexer": "ipython3",
   "version": "3.12.8"
  },
  "widgets": {
   "application/vnd.jupyter.widget-state+json": {
    "state": {},
    "version_major": 2,
    "version_minor": 0
   }
  }
 },
 "nbformat": 4,
 "nbformat_minor": 5
}
